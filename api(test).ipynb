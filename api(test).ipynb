{
 "cells": [
  {
   "cell_type": "code",
   "execution_count": 25,
   "metadata": {},
   "outputs": [],
   "source": [
    "import pandas as pd\n",
    "import requests\n",
    "\n",
    "def metrojson(SID, EID):\n",
    "\n",
    "    SID = str(SID)\n",
    "    EID = str(EID)\n",
    "    Sopt = '1'   # 최단거리(1) 또는 최소환승(2) 설정\n",
    "    apiKey = \"VMlJA4GzIlpVQkHARsMsz6uOKDrPKxiHBCfYXoz6ufo\"\n",
    "\n",
    "    url = f'https://api.odsay.com/v1/api/subwayPath?lang=0&CID=1000&SID={SID}&EID={EID}&Sopt={Sopt}&apiKey={apiKey}'\n",
    "    \n",
    "    res = requests.get(url)\n",
    "    data = res.json()\n",
    "\n",
    "    # DataFrame으로 만들 데이터 추출\n",
    "    globalStartName = data[\"result\"][\"globalStartName\"]\n",
    "    globalEndName = data[\"result\"][\"globalEndName\"]\n",
    "    globalTravelTime = data[\"result\"][\"globalTravelTime\"]\n",
    "    globalDistance = data[\"result\"][\"globalDistance\"]\n",
    "    globalStationCount = data[\"result\"][\"globalStationCount\"]\n",
    "    fare = data[\"result\"][\"fare\"]\n",
    "    cashFare = data[\"result\"][\"cashFare\"]\n",
    "    driveInfoSet = data[\"result\"][\"driveInfoSet\"]\n",
    "    stationSet = data[\"result\"][\"stationSet\"]\n",
    "\n",
    "    # 'driveInfo'와 'stations' 리스트를 DataFrame으로 변환\n",
    "    drive_info_df = pd.DataFrame(driveInfoSet[\"driveInfo\"])\n",
    "    stations_df = pd.DataFrame(stationSet[\"stations\"])\n",
    "    \n",
    "    # 결과 데이터를 하나의 DataFrame으로 합치기\n",
    "    result_df = pd.DataFrame({\n",
    "        \"globalStartName\": [globalStartName],\n",
    "        \"globalEndName\": [globalEndName],\n",
    "        \"globalTravelTime\": [globalTravelTime],\n",
    "        \"globalDistance\": [globalDistance],\n",
    "        \"globalStationCount\": [globalStationCount],\n",
    "        \"fare\": [fare],\n",
    "        \"cashFare\": [cashFare]\n",
    "    })\n",
    "\n",
    "    def get_direction(row):\n",
    "        if row[\"startName\"] == \"시청\" and row[\"endName\"] == \"충정로\":\n",
    "            return \"외선\"\n",
    "        elif (200 <= row[\"startID\"] <= 299) and (200 <= row[\"endSID\"] <= 299):\n",
    "            return \"내선\" if row[\"startID\"] < row[\"endSID\"] else \"외선\"\n",
    "        else:\n",
    "            return \"하선\" if row[\"startID\"] > row[\"endSID\"] else \"상선\"\n",
    "    stations_df[\"direction\"] = stations_df.apply(get_direction, axis=1)\n",
    "    \n",
    "    stations_df[\"time_difference\"] = stations_df[\"travelTime\"].diff()\n",
    "    stations_df.at[stations_df.index[0], \"time_difference\"] = stations_df.at[stations_df.index[0], \"travelTime\"]\n",
    "\n",
    "    total_time_difference_sum = stations_df[\"time_difference\"].sum()\n",
    "    stations_df[\"time_difference_percentage\"] = (stations_df[\"time_difference\"] / total_time_difference_sum) * 100\n",
    "\n",
    "    # 결과 DataFrame 출력\n",
    "    return result_df, drive_info_df, stations_df"
   ]
  },
  {
   "cell_type": "code",
   "execution_count": 26,
   "metadata": {},
   "outputs": [],
   "source": [
    "result_df, drive_info_df, df_stations = metrojson('426', '210')"
   ]
  },
  {
   "cell_type": "code",
   "execution_count": 27,
   "metadata": {},
   "outputs": [
    {
     "data": {
      "text/html": [
       "<div>\n",
       "<style scoped>\n",
       "    .dataframe tbody tr th:only-of-type {\n",
       "        vertical-align: middle;\n",
       "    }\n",
       "\n",
       "    .dataframe tbody tr th {\n",
       "        vertical-align: top;\n",
       "    }\n",
       "\n",
       "    .dataframe thead th {\n",
       "        text-align: right;\n",
       "    }\n",
       "</style>\n",
       "<table border=\"1\" class=\"dataframe\">\n",
       "  <thead>\n",
       "    <tr style=\"text-align: right;\">\n",
       "      <th></th>\n",
       "      <th>globalStartName</th>\n",
       "      <th>globalEndName</th>\n",
       "      <th>globalTravelTime</th>\n",
       "      <th>globalDistance</th>\n",
       "      <th>globalStationCount</th>\n",
       "      <th>fare</th>\n",
       "      <th>cashFare</th>\n",
       "    </tr>\n",
       "  </thead>\n",
       "  <tbody>\n",
       "    <tr>\n",
       "      <th>0</th>\n",
       "      <td>서울역</td>\n",
       "      <td>뚝섬</td>\n",
       "      <td>17</td>\n",
       "      <td>8.3</td>\n",
       "      <td>9</td>\n",
       "      <td>1250</td>\n",
       "      <td>1350</td>\n",
       "    </tr>\n",
       "  </tbody>\n",
       "</table>\n",
       "</div>"
      ],
      "text/plain": [
       "  globalStartName globalEndName  globalTravelTime  globalDistance  \\\n",
       "0             서울역            뚝섬                17             8.3   \n",
       "\n",
       "   globalStationCount  fare  cashFare  \n",
       "0                   9  1250      1350  "
      ]
     },
     "execution_count": 27,
     "metadata": {},
     "output_type": "execute_result"
    }
   ],
   "source": [
    "result_df"
   ]
  },
  {
   "cell_type": "code",
   "execution_count": 28,
   "metadata": {},
   "outputs": [
    {
     "data": {
      "text/html": [
       "<div>\n",
       "<style scoped>\n",
       "    .dataframe tbody tr th:only-of-type {\n",
       "        vertical-align: middle;\n",
       "    }\n",
       "\n",
       "    .dataframe tbody tr th {\n",
       "        vertical-align: top;\n",
       "    }\n",
       "\n",
       "    .dataframe thead th {\n",
       "        text-align: right;\n",
       "    }\n",
       "</style>\n",
       "<table border=\"1\" class=\"dataframe\">\n",
       "  <thead>\n",
       "    <tr style=\"text-align: right;\">\n",
       "      <th></th>\n",
       "      <th>laneID</th>\n",
       "      <th>laneName</th>\n",
       "      <th>startName</th>\n",
       "      <th>stationCount</th>\n",
       "      <th>wayCode</th>\n",
       "      <th>wayName</th>\n",
       "    </tr>\n",
       "  </thead>\n",
       "  <tbody>\n",
       "    <tr>\n",
       "      <th>0</th>\n",
       "      <td>4</td>\n",
       "      <td>4호선</td>\n",
       "      <td>서울역</td>\n",
       "      <td>4</td>\n",
       "      <td>1</td>\n",
       "      <td>진접</td>\n",
       "    </tr>\n",
       "    <tr>\n",
       "      <th>1</th>\n",
       "      <td>2</td>\n",
       "      <td>2호선</td>\n",
       "      <td>동대문역사문화공원</td>\n",
       "      <td>5</td>\n",
       "      <td>2</td>\n",
       "      <td>내선순환</td>\n",
       "    </tr>\n",
       "  </tbody>\n",
       "</table>\n",
       "</div>"
      ],
      "text/plain": [
       "  laneID laneName  startName  stationCount  wayCode wayName\n",
       "0      4      4호선        서울역             4        1      진접\n",
       "1      2      2호선  동대문역사문화공원             5        2    내선순환"
      ]
     },
     "execution_count": 28,
     "metadata": {},
     "output_type": "execute_result"
    }
   ],
   "source": [
    "drive_info_df"
   ]
  },
  {
   "cell_type": "code",
   "execution_count": 29,
   "metadata": {},
   "outputs": [
    {
     "data": {
      "text/html": [
       "<div>\n",
       "<style scoped>\n",
       "    .dataframe tbody tr th:only-of-type {\n",
       "        vertical-align: middle;\n",
       "    }\n",
       "\n",
       "    .dataframe tbody tr th {\n",
       "        vertical-align: top;\n",
       "    }\n",
       "\n",
       "    .dataframe thead th {\n",
       "        text-align: right;\n",
       "    }\n",
       "</style>\n",
       "<table border=\"1\" class=\"dataframe\">\n",
       "  <thead>\n",
       "    <tr style=\"text-align: right;\">\n",
       "      <th></th>\n",
       "      <th>startID</th>\n",
       "      <th>startName</th>\n",
       "      <th>endSID</th>\n",
       "      <th>endName</th>\n",
       "      <th>travelTime</th>\n",
       "      <th>direction</th>\n",
       "      <th>time_difference</th>\n",
       "      <th>time_difference_percentage</th>\n",
       "    </tr>\n",
       "  </thead>\n",
       "  <tbody>\n",
       "    <tr>\n",
       "      <th>0</th>\n",
       "      <td>426</td>\n",
       "      <td>서울역</td>\n",
       "      <td>425</td>\n",
       "      <td>회현</td>\n",
       "      <td>2</td>\n",
       "      <td>하선</td>\n",
       "      <td>2.0</td>\n",
       "      <td>11.764706</td>\n",
       "    </tr>\n",
       "    <tr>\n",
       "      <th>1</th>\n",
       "      <td>425</td>\n",
       "      <td>회현</td>\n",
       "      <td>424</td>\n",
       "      <td>명동</td>\n",
       "      <td>4</td>\n",
       "      <td>하선</td>\n",
       "      <td>2.0</td>\n",
       "      <td>11.764706</td>\n",
       "    </tr>\n",
       "    <tr>\n",
       "      <th>2</th>\n",
       "      <td>424</td>\n",
       "      <td>명동</td>\n",
       "      <td>423</td>\n",
       "      <td>충무로</td>\n",
       "      <td>5</td>\n",
       "      <td>하선</td>\n",
       "      <td>1.0</td>\n",
       "      <td>5.882353</td>\n",
       "    </tr>\n",
       "    <tr>\n",
       "      <th>3</th>\n",
       "      <td>423</td>\n",
       "      <td>충무로</td>\n",
       "      <td>422</td>\n",
       "      <td>동대문역사문화공원</td>\n",
       "      <td>7</td>\n",
       "      <td>하선</td>\n",
       "      <td>2.0</td>\n",
       "      <td>11.764706</td>\n",
       "    </tr>\n",
       "    <tr>\n",
       "      <th>4</th>\n",
       "      <td>205</td>\n",
       "      <td>동대문역사문화공원</td>\n",
       "      <td>206</td>\n",
       "      <td>신당</td>\n",
       "      <td>10</td>\n",
       "      <td>내선</td>\n",
       "      <td>3.0</td>\n",
       "      <td>17.647059</td>\n",
       "    </tr>\n",
       "    <tr>\n",
       "      <th>5</th>\n",
       "      <td>206</td>\n",
       "      <td>신당</td>\n",
       "      <td>207</td>\n",
       "      <td>상왕십리</td>\n",
       "      <td>12</td>\n",
       "      <td>내선</td>\n",
       "      <td>2.0</td>\n",
       "      <td>11.764706</td>\n",
       "    </tr>\n",
       "    <tr>\n",
       "      <th>6</th>\n",
       "      <td>207</td>\n",
       "      <td>상왕십리</td>\n",
       "      <td>208</td>\n",
       "      <td>왕십리</td>\n",
       "      <td>13</td>\n",
       "      <td>내선</td>\n",
       "      <td>1.0</td>\n",
       "      <td>5.882353</td>\n",
       "    </tr>\n",
       "    <tr>\n",
       "      <th>7</th>\n",
       "      <td>208</td>\n",
       "      <td>왕십리</td>\n",
       "      <td>209</td>\n",
       "      <td>한양대</td>\n",
       "      <td>15</td>\n",
       "      <td>내선</td>\n",
       "      <td>2.0</td>\n",
       "      <td>11.764706</td>\n",
       "    </tr>\n",
       "    <tr>\n",
       "      <th>8</th>\n",
       "      <td>209</td>\n",
       "      <td>한양대</td>\n",
       "      <td>210</td>\n",
       "      <td>뚝섬</td>\n",
       "      <td>17</td>\n",
       "      <td>내선</td>\n",
       "      <td>2.0</td>\n",
       "      <td>11.764706</td>\n",
       "    </tr>\n",
       "  </tbody>\n",
       "</table>\n",
       "</div>"
      ],
      "text/plain": [
       "   startID  startName  endSID    endName  travelTime direction  \\\n",
       "0      426        서울역     425         회현           2        하선   \n",
       "1      425         회현     424         명동           4        하선   \n",
       "2      424         명동     423        충무로           5        하선   \n",
       "3      423        충무로     422  동대문역사문화공원           7        하선   \n",
       "4      205  동대문역사문화공원     206         신당          10        내선   \n",
       "5      206         신당     207       상왕십리          12        내선   \n",
       "6      207       상왕십리     208        왕십리          13        내선   \n",
       "7      208        왕십리     209        한양대          15        내선   \n",
       "8      209        한양대     210         뚝섬          17        내선   \n",
       "\n",
       "   time_difference  time_difference_percentage  \n",
       "0              2.0                   11.764706  \n",
       "1              2.0                   11.764706  \n",
       "2              1.0                    5.882353  \n",
       "3              2.0                   11.764706  \n",
       "4              3.0                   17.647059  \n",
       "5              2.0                   11.764706  \n",
       "6              1.0                    5.882353  \n",
       "7              2.0                   11.764706  \n",
       "8              2.0                   11.764706  "
      ]
     },
     "execution_count": 29,
     "metadata": {},
     "output_type": "execute_result"
    }
   ],
   "source": [
    "df_stations"
   ]
  },
  {
   "cell_type": "code",
   "execution_count": 10,
   "metadata": {},
   "outputs": [],
   "source": [
    "from API import Odsay\n",
    "\n",
    "stations = Odsay.station_list(df_stations) # station list 구하는 함수\n",
    "counts = [drive_info_df['stationCount'][i] for i in range(len(drive_info_df))] # 역 별 이동 역 개수\n",
    "lane = [drive_info_df['laneName'][i] for i in range(len(drive_info_df))] # 호선 정보"
   ]
  },
  {
   "cell_type": "code",
   "execution_count": 11,
   "metadata": {},
   "outputs": [
    {
     "data": {
      "text/plain": [
       "['서울역', '회현', '명동', '충무로', '동대문역사문화공원', '신당', '상왕십리', '왕십리', '한양대']"
      ]
     },
     "execution_count": 11,
     "metadata": {},
     "output_type": "execute_result"
    }
   ],
   "source": [
    "stations"
   ]
  },
  {
   "cell_type": "code",
   "execution_count": 12,
   "metadata": {},
   "outputs": [
    {
     "data": {
      "text/plain": [
       "[4, 5]"
      ]
     },
     "execution_count": 12,
     "metadata": {},
     "output_type": "execute_result"
    }
   ],
   "source": [
    "counts"
   ]
  },
  {
   "cell_type": "code",
   "execution_count": 13,
   "metadata": {},
   "outputs": [
    {
     "data": {
      "text/plain": [
       "['4호선', '2호선']"
      ]
     },
     "execution_count": 13,
     "metadata": {},
     "output_type": "execute_result"
    }
   ],
   "source": [
    "lane"
   ]
  },
  {
   "cell_type": "code",
   "execution_count": 15,
   "metadata": {},
   "outputs": [],
   "source": [
    "split_stations = []\n",
    "split_congestion = []\n",
    "\n",
    "congestion_ls = [12, 34, 1, 99, 12, 34, 34, 24, 11]\n",
    "\n",
    "for count in counts:\n",
    "    split_stations.append(stations[:count])\n",
    "    split_congestion.append(congestion_ls[:count])\n",
    "    del stations[:count]"
   ]
  },
  {
   "cell_type": "code",
   "execution_count": 16,
   "metadata": {},
   "outputs": [
    {
     "data": {
      "text/plain": [
       "[[12, 34, 1, 99], [12, 34, 1, 99, 12]]"
      ]
     },
     "execution_count": 16,
     "metadata": {},
     "output_type": "execute_result"
    }
   ],
   "source": [
    "split_congestion"
   ]
  },
  {
   "cell_type": "code",
   "execution_count": 17,
   "metadata": {},
   "outputs": [
    {
     "data": {
      "text/plain": [
       "[['서울역', '회현', '명동', '충무로'], ['동대문역사문화공원', '신당', '상왕십리', '왕십리', '한양대']]"
      ]
     },
     "execution_count": 17,
     "metadata": {},
     "output_type": "execute_result"
    }
   ],
   "source": [
    "split_stations"
   ]
  },
  {
   "cell_type": "code",
   "execution_count": 30,
   "metadata": {},
   "outputs": [],
   "source": [
    "# 시간 구하기: 윤수님\n",
    "\n",
    "travle_time_ls = list(df_stations['travelTime'])\n",
    "percent_ls = list(df_stations['time_difference_percentage'])"
   ]
  },
  {
   "cell_type": "code",
   "execution_count": 31,
   "metadata": {},
   "outputs": [
    {
     "data": {
      "text/plain": [
       "[2, 4, 5, 7, 10, 12, 13, 15, 17]"
      ]
     },
     "execution_count": 31,
     "metadata": {},
     "output_type": "execute_result"
    }
   ],
   "source": [
    "travle_time_ls"
   ]
  },
  {
   "cell_type": "code",
   "execution_count": 32,
   "metadata": {},
   "outputs": [
    {
     "data": {
      "text/plain": [
       "[11.76470588235294,\n",
       " 11.76470588235294,\n",
       " 5.88235294117647,\n",
       " 11.76470588235294,\n",
       " 17.647058823529413,\n",
       " 11.76470588235294,\n",
       " 5.88235294117647,\n",
       " 11.76470588235294,\n",
       " 11.76470588235294]"
      ]
     },
     "execution_count": 32,
     "metadata": {},
     "output_type": "execute_result"
    }
   ],
   "source": [
    "percent_ls"
   ]
  },
  {
   "cell_type": "code",
   "execution_count": null,
   "metadata": {},
   "outputs": [],
   "source": []
  }
 ],
 "metadata": {
  "kernelspec": {
   "display_name": "new_p",
   "language": "python",
   "name": "python3"
  },
  "language_info": {
   "codemirror_mode": {
    "name": "ipython",
    "version": 3
   },
   "file_extension": ".py",
   "mimetype": "text/x-python",
   "name": "python",
   "nbconvert_exporter": "python",
   "pygments_lexer": "ipython3",
   "version": "3.8.17"
  },
  "orig_nbformat": 4
 },
 "nbformat": 4,
 "nbformat_minor": 2
}
